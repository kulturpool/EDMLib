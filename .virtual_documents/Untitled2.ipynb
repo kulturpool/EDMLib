from lxml import etree
from edm_python.parsers import EDM_Parser
import os
from rdflib import Graph
from io import StringIO, BytesIO


examples = []
graphs = []
for file in os.listdir("edm_python/edm/examples"):
    print(file)
    if file.endswith("xml"):
        examples.append(etree.parse("edm_python/edm/examples/"+file))



exceptions = []
for ex in examples: 
    try: 
        res = ex.xpath(".//rdf:RDF", namespaces={"oai":"http://www.openarchives.org/OAI/2.0/", "rdf":"http://www.w3.org/1999/02/22-rdf-syntax-ns#"})
        xml = etree.tostring(res[0], encoding="str", pretty_print=True)
        graphs.append(Graph().parse(xml, format="xml"))
    except Exception as e: 
        exceptions.append(e)


len(exceptions)





cur = Path().absolute()


os.listdir(cur / "edm_python" / "edm")



