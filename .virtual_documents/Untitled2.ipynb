from edm_python.parsers import EDM_Parser
from rdflib import Graph 
import json 


g = Graph().parse("test.json", format="json-ld")


g


EDM_Parser(g).parse()



