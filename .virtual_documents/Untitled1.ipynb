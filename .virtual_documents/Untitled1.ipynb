from edm_python.edm import EDM_Record
from edm_python.parsers import EDM_Parser
import json 


with open("new_test.json", "r") as file:
    data = json.loads(file.read())


data


test = EDM_Record(**data)



