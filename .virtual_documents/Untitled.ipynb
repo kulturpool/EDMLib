from requests import request


#test = request(url="http://127.0.0.1:8000/rdf/", method="GET")


from edm_python import *
from rdflib import Graph
from io import StringIO 



ex = """<?xml version=\"1.0\" encoding=\"utf-8\"?>\n<rdf:RDF\n  xmlns:dc=\"http://purl.org/dc/elements/1.1/\"\n  xmlns:edm=\"http://www.europeana.eu/schemas/edm/\"\n  xmlns:ore=\"http://www.openarchives.org/ore/terms/\"\n  xmlns:dcterms=\"http://purl.org/dc/terms/\"\n  xmlns:rdf=\"http://www.w3.org/1999/02/22-rdf-syntax-ns#\"\n>\n  <ore:Aggregation rdf:about=\"http://anno.onb.ac.at/cgi-content/anno?apm=0&amp;aid=dil&amp;datum=19040401\">\n    <edm:aggregatedCHO rdf:resource=\"oai:fue.onb.at:eTravel:25fde500-1d2b-4ee2-a604-5f9d07331094\"/>\n    <edm:dataProvider>Österreichische Nationalbibliothek</edm:dataProvider>\n    <edm:isShownAt rdf:resource=\"http://anno.onb.ac.at/cgi-content/anno?apm=0&amp;aid=dil&amp;datum=19040401\"/>\n    <edm:isShownBy rdf:resource=\"http://anno.onb.ac.at/preview/dil/1904/19040401/00000001.png\"/>\n    <edm:object rdf:resource=\"http://anno.onb.ac.at/preview/dil/1904/19040401/00000001.png\"/>\n    <edm:provider>Kulturpool</edm:provider>\n  </ore:Aggregation>\n  <edm:ProvidedCHO rdf:about=\"oai:fue.onb.at:eTravel:25fde500-1d2b-4ee2-a604-5f9d07331094\">\n    <dc:date>1904-04-01</dc:date>\n    <dc:description xml:lang=\"de\">Zeitung zu den Themen Reise, Tourismus, Fremdenverkehr</dc:description>\n    <dc:description xml:lang=\"en\">Journal on the themes of travel and tourism</dc:description>\n    <dc:identifier>oai:fue.onb.at:eTravel:25fde500-1d2b-4ee2-a604-5f9d07331094</dc:identifier>\n    <dc:language>de</dc:language>\n    <dc:language>en</dc:language>\n    <dc:publisher xml:lang=\"de\">Dillinger</dc:publisher>\n    <dc:subject xml:lang=\"de\">Reise</dc:subject>\n    <dc:subject xml:lang=\"de\">Tourimus</dc:subject>\n    <dc:subject xml:lang=\"de\">Fremdenverkehr</dc:subject>\n    <dc:subject xml:lang=\"en\">travel</dc:subject>\n    <dc:subject xml:lang=\"en\">tourism</dc:subject>\n    <dc:title xml:lang=\"de\">Dillingers Reiseführer : illustrierte Zeitschrift für internationalen Reise- und Fremdenverkehr, 1904-04-01</dc:title>\n    <dc:type xml:lang=\"de\">Text</dc:type>\n    <dcterms:created>1904-04-01</dcterms:created>\n    <dcterms:isPartOf>Anno</dcterms:isPartOf>\n    <dcterms:temporal>Wien : 14.1903 - 24.1913 ; anfangs 2 x monatlich, später monatlich</dcterms:temporal>\n    <edm:type>IMAGE</edm:type>\n  </edm:ProvidedCHO>\n</rdf:RDF>\n"""


edm = EDM_Parser(Graph().parse(StringIO(ex), format="xml"))


rec = edm.parse()


rec


rec.model_dump()


from edm_python import EDM_Record


EDM_Record(**rec.model_dump())


a = {1:2, 2:3}
b = {1:2, 2:3}


a == b



