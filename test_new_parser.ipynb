{
 "cells": [
  {
   "cell_type": "code",
   "execution_count": 45,
   "id": "19d19ab6-a0ed-4c80-82ab-9925a09883c6",
   "metadata": {},
   "outputs": [],
   "source": [
    "from lxml import etree\n",
    "from edm_python.parsers import EDM_Parser\n",
    "import os\n",
    "from rdflib import Graph\n",
    "from io import StringIO, BytesIO"
   ]
  },
  {
   "cell_type": "code",
   "execution_count": 33,
   "id": "87aa4eed-2710-4e03-a119-65a85605cd0f",
   "metadata": {},
   "outputs": [
    {
     "name": "stdout",
     "output_type": "stream",
     "text": [
      "example_rec_1.xml\n",
      "example_rec_3.xml\n",
      "example_rec_2.xml\n",
      "example_rec_6.xml\n",
      "example_rec_7.xml\n",
      "example_rec_5.xml\n",
      "example_rec_4.xml\n",
      "example_rec_10.xml\n",
      "example_rec_11.xml\n",
      "example_rec_13.xml\n",
      "example_rec_12.xml\n",
      "example_rec_16.xml\n",
      "example_rec_17.xml\n",
      "example_rec_15.xml\n",
      "example_rec_14.xml\n",
      "example_rec_19.xml\n",
      "example_rec_18.xml\n",
      "example_rec_20.xml\n",
      ".ipynb_checkpoints\n",
      "example_rec_9.xml\n",
      "example_rec_8.xml\n"
     ]
    }
   ],
   "source": [
    "examples = []\n",
    "graphs = []\n",
    "for file in os.listdir(\"edm_python/edm/examples\"):\n",
    "    print(file)\n",
    "    if file.endswith(\"xml\"):\n",
    "        examples.append(etree.parse(\"edm_python/edm/examples/\"+file))\n"
   ]
  },
  {
   "cell_type": "code",
   "execution_count": 86,
   "id": "010c66de-188d-4964-ae25-271034b2dfaa",
   "metadata": {},
   "outputs": [],
   "source": [
    "exceptions = []\n",
    "graphs = []\n",
    "for ex in examples: \n",
    "    try: \n",
    "        res = ex.xpath(\".//rdf:RDF\", namespaces={\"oai\":\"http://www.openarchives.org/OAI/2.0/\", \"rdf\":\"http://www.w3.org/1999/02/22-rdf-syntax-ns#\"})\n",
    "        xml = etree.tostring(res[0], encoding=str, pretty_print=True)\n",
    "        #print(xml)\n",
    "        graph = Graph().parse(data=xml, format=\"xml\")\n",
    "        graphs.append(graph)\n",
    "    except Exception as e: \n",
    "        #print(\"raised\", e)\n",
    "        exceptions.append(e)"
   ]
  },
  {
   "cell_type": "code",
   "execution_count": 90,
   "id": "002ffad1-2cc8-4dec-99ce-57ea876df577",
   "metadata": {},
   "outputs": [
    {
     "name": "stdout",
     "output_type": "stream",
     "text": [
      "<rdf:RDF xmlns:dc=\"http://purl.org/dc/elements/1.1/\" xmlns:dcterms=\"http://purl.org/dc/terms/\" xmlns:edm=\"http://www.europeana.eu/schemas/edm/\" xmlns:doap=\"http://usefulinc.com/ns/doap#\" xmlns:wgs84_pos=\"http://www.w3.org/2003/01/geo/wgs84_pos#\" xmlns:foaf=\"http://xmlns.com/foaf/0.1/\" xmlns:rdaGr2=\"http://rdvocab.info/ElementsGr2/\" xmlns:oai=\"http://www.openarchives.org/OAI/2.0/\" xmlns:owl=\"http://www.w3.org/2002/07/owl#\" xmlns:rdf=\"http://www.w3.org/1999/02/22-rdf-syntax-ns#\" xmlns:ore=\"http://www.openarchives.org/ore/terms/\" xmlns:skos=\"http://www.w3.org/2004/02/skos/core#\" xmlns:svcs=\"http://rdfs.org/sioc/services#\" xmlns=\"http://www.openarchives.org/OAI/2.0/\" xmlns:xlink=\"http://www.w3.org/1999/xlink\" xmlns:xsi=\"http://www.w3.org/2001/XMLSchema-instance\">\n",
      "          <edm:ProvidedCHO rdf:about=\"#tms_452098\">\n",
      "            <dc:creator creatordated=\"Italien, 1727 - 1803\">Domenico Cunego              </dc:creator>\n",
      "            <dc:creator creatordated=\"Cento 1591 - 1666 Bologna\" permalinkgnd=\"http://d-nb.info/gnd/118978128\" permalinkwiki=\"http://de.wikipedia.org/wiki/Giovanni_Francesco_Barbieri\">Giovanni Francesco Barbieri gen. il Guercino                    </dc:creator>\n",
      "            <dc:identifier>tms_452098</dc:identifier>\n",
      "            <dc:identifier>It/II/35/91</dc:identifier>\n",
      "            <dc:identifier>Albertina_tms_452098</dc:identifier>\n",
      "            <dc:language>de</dc:language>\n",
      "            <dc:publisher>Albertina, Wien, Österreich</dc:publisher>\n",
      "            <dc:rights>Albertina, Wien, Österreich</dc:rights>\n",
      "            <dc:subject rdf:resource=\"http://vocab.getty.edu/aat/300041273\">Druckgraphik </dc:subject>\n",
      "            <dc:title xml:lang=\"German\">Die Sibylle Demophile</dc:title>\n",
      "            <dcterms:extent>Außenmaß (Band): 70,2 × 55,6 × 5,5 cm</dcterms:extent>\n",
      "            <dcterms:isPartOf>Historische Bände (Klebebände)  </dcterms:isPartOf>\n",
      "            <dcterms:medium>Radierung, Kupferstich</dcterms:medium>\n",
      "            <dcterms:spatial>Italien, Rom</dcterms:spatial>\n",
      "            <dcterms:temporal>1797</dcterms:temporal>\n",
      "            <edm:type>IMAGE</edm:type>\n",
      "          </edm:ProvidedCHO>\n",
      "          <ore:Aggregation rdf:resource=\"#tms_452098_AGG\">\n",
      "            <edm:aggregatedCHO rdf:resource=\"#tms_452098\"/>\n",
      "            <edm:dataProvider>Albertina, Wien, Österreich</edm:dataProvider>\n",
      "            <edm:hasView rdf:resource=\"https://sammlungenonline.albertina.at/cc/imageproxy.ashx?server=localhost&amp;amp;port=15001&amp;amp;filename=images/It_II_35_91.jpg&amp;amp;cache=yes\"/>\n",
      "            <edm:isShownAt rdf:resource=\"https://sammlungenonline.albertina.at/?query=search=/record/objectnumbersearch=[It/II/35/91]&amp;amp;showtype=record\"/>\n",
      "            <edm:isShownBy rdf:resource=\"https://sammlungenonline.albertina.at/cc/imageproxy.ashx?server=localhost&amp;amp;port=15001&amp;amp;filename=images/It_II_35_91.jpg&amp;amp;cache=yes\"/>\n",
      "            <edm:rights rdf:resource=\"http://creativecommons.org/publicdomain/mark/1.0/\"/>\n",
      "            <edm:object rdf:resource=\"https://sammlungenonline.albertina.at/cc/imageproxy.ashx?server=localhost&amp;amp;port=15001&amp;amp;filename=images/It_II_35_91.jpg&amp;amp;cache=yes&amp;amp;maxwidth=400\"/>\n",
      "          </ore:Aggregation>\n",
      "          <edm:WebResource rdf:about=\"https://sammlungenonline.albertina.at/cc/imageproxy.ashx?server=localhost&amp;amp;port=15001&amp;amp;filename=images/It_II_35_91.jpg&amp;amp;cache=yes\">\n",
      "            <dcterms:isReferencedBy rdf:resource=\"https://sammlungenonline.albertina.at/iiif/tms_452098/manifest.json\"/>\n",
      "            <svcs:has_service rdf:resource=\"https://sammlungenonline.albertina.at/iiif%2Fimages%2fIt_II_35_91.jpg     \"/>\n",
      "            <dc:rights>Albertina, Wien, Österreich</dc:rights>\n",
      "            <edm:rights rdf:resource=\"http://creativecommons.org/publicdomain/mark/1.0/\"/>\n",
      "          </edm:WebResource>\n",
      "          <svcs:Service rdf:about=\"https://sammlungenonline.albertina.at/iiif%2Fimages%2fIt_II_35_91.jpg     \">\n",
      "            <dcterms:conformsTo rdf:resource=\"http://iiif.io/api/image\"/>\n",
      "            <doap:implements rdf:resource=\"http://iiif.io/api/image/2/level2.json\"/>\n",
      "          </svcs:Service>\n",
      "        </rdf:RDF>\n",
      "      \n",
      "\n"
     ]
    }
   ],
   "source": [
    "print(xml)"
   ]
  },
  {
   "cell_type": "code",
   "execution_count": 88,
   "id": "166c590d-fbf8-428b-a452-462c47650f54",
   "metadata": {},
   "outputs": [
    {
     "data": {
      "text/plain": [
       "[rdflib.exceptions.ParserError('None:16:10: Invalid property attribute URI: http://www.w3.org/1999/02/22-rdf-syntax-ns#resource'),\n",
       " rdflib.exceptions.ParserError('None:21:10: Invalid property attribute URI: http://www.w3.org/1999/02/22-rdf-syntax-ns#resource'),\n",
       " rdflib.exceptions.ParserError('None:20:10: Invalid property attribute URI: http://www.w3.org/1999/02/22-rdf-syntax-ns#resource'),\n",
       " rdflib.exceptions.ParserError('None:19:10: Invalid property attribute URI: http://www.w3.org/1999/02/22-rdf-syntax-ns#resource'),\n",
       " rdflib.exceptions.ParserError('None:20:10: Invalid property attribute URI: http://www.w3.org/1999/02/22-rdf-syntax-ns#resource'),\n",
       " rdflib.exceptions.ParserError('None:20:10: Invalid property attribute URI: http://www.w3.org/1999/02/22-rdf-syntax-ns#resource'),\n",
       " rdflib.exceptions.ParserError('None:21:10: Invalid property attribute URI: http://www.w3.org/1999/02/22-rdf-syntax-ns#resource'),\n",
       " rdflib.exceptions.ParserError('None:20:10: Invalid property attribute URI: http://www.w3.org/1999/02/22-rdf-syntax-ns#resource'),\n",
       " rdflib.exceptions.ParserError('None:20:10: Invalid property attribute URI: http://www.w3.org/1999/02/22-rdf-syntax-ns#resource'),\n",
       " rdflib.exceptions.ParserError('None:20:10: Invalid property attribute URI: http://www.w3.org/1999/02/22-rdf-syntax-ns#resource'),\n",
       " rdflib.exceptions.ParserError('None:21:10: Invalid property attribute URI: http://www.w3.org/1999/02/22-rdf-syntax-ns#resource'),\n",
       " rdflib.exceptions.ParserError('None:20:10: Invalid property attribute URI: http://www.w3.org/1999/02/22-rdf-syntax-ns#resource'),\n",
       " rdflib.exceptions.ParserError('None:21:10: Invalid property attribute URI: http://www.w3.org/1999/02/22-rdf-syntax-ns#resource'),\n",
       " rdflib.exceptions.ParserError('None:20:10: Invalid property attribute URI: http://www.w3.org/1999/02/22-rdf-syntax-ns#resource'),\n",
       " rdflib.exceptions.ParserError('None:20:10: Invalid property attribute URI: http://www.w3.org/1999/02/22-rdf-syntax-ns#resource'),\n",
       " rdflib.exceptions.ParserError('None:19:10: Invalid property attribute URI: http://www.w3.org/1999/02/22-rdf-syntax-ns#resource'),\n",
       " rdflib.exceptions.ParserError('None:20:10: Invalid property attribute URI: http://www.w3.org/1999/02/22-rdf-syntax-ns#resource'),\n",
       " rdflib.exceptions.ParserError('None:16:10: Invalid property attribute URI: http://www.w3.org/1999/02/22-rdf-syntax-ns#resource'),\n",
       " rdflib.exceptions.ParserError('None:20:10: Invalid property attribute URI: http://www.w3.org/1999/02/22-rdf-syntax-ns#resource'),\n",
       " rdflib.exceptions.ParserError('None:20:10: Invalid property attribute URI: http://www.w3.org/1999/02/22-rdf-syntax-ns#resource')]"
      ]
     },
     "execution_count": 88,
     "metadata": {},
     "output_type": "execute_result"
    }
   ],
   "source": [
    "exceptions"
   ]
  },
  {
   "cell_type": "code",
   "execution_count": 19,
   "id": "d7feedee-65ee-437d-92b3-e98e17925552",
   "metadata": {},
   "outputs": [],
   "source": [
    "cur = Path().absolute()"
   ]
  },
  {
   "cell_type": "code",
   "execution_count": 22,
   "id": "9e7dbc0e-0416-4de8-9f76-614947b845a5",
   "metadata": {},
   "outputs": [
    {
     "data": {
      "text/plain": [
       "['enums.py',\n",
       " 'classes',\n",
       " 'tests',\n",
       " '__init__.py',\n",
       " 'types.py',\n",
       " '__pycache__',\n",
       " 'serializers',\n",
       " 'json',\n",
       " 'examples',\n",
       " 'record.py',\n",
       " 'exceptions.py',\n",
       " 'base.py',\n",
       " 'validation']"
      ]
     },
     "execution_count": 22,
     "metadata": {},
     "output_type": "execute_result"
    }
   ],
   "source": [
    "os.listdir(cur / \"edm_python\" / \"edm\")"
   ]
  },
  {
   "cell_type": "code",
   "execution_count": null,
   "id": "cd6f666d-dc2b-48e2-a4e3-52497e723343",
   "metadata": {},
   "outputs": [],
   "source": []
  }
 ],
 "metadata": {
  "kernelspec": {
   "display_name": "Python 3 (ipykernel)",
   "language": "python",
   "name": "python3"
  },
  "language_info": {
   "codemirror_mode": {
    "name": "ipython",
    "version": 3
   },
   "file_extension": ".py",
   "mimetype": "text/x-python",
   "name": "python",
   "nbconvert_exporter": "python",
   "pygments_lexer": "ipython3",
   "version": "3.12.2"
  }
 },
 "nbformat": 4,
 "nbformat_minor": 5
}
