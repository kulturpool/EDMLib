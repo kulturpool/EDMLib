{
 "cells": [
  {
   "cell_type": "code",
   "execution_count": 3,
   "id": "5d3e042a-dd45-4567-9170-902c4d856dc1",
   "metadata": {},
   "outputs": [],
   "source": [
    "from requests import request"
   ]
  },
  {
   "cell_type": "code",
   "execution_count": 4,
   "id": "90314ed9-d1b8-4c4b-bac4-3c390036db8d",
   "metadata": {},
   "outputs": [],
   "source": [
    "#test = request(url=\"http://127.0.0.1:8000/rdf/\", method=\"GET\")"
   ]
  },
  {
   "cell_type": "code",
   "execution_count": 18,
   "id": "8cf7b6f6-0948-4c15-8d31-09ab40f742e1",
   "metadata": {},
   "outputs": [],
   "source": [
    "from edm_python import *\n",
    "from rdflib import Graph\n",
    "from io import StringIO \n"
   ]
  },
  {
   "cell_type": "code",
   "execution_count": 6,
   "id": "f51f1701-ab52-4ff4-bbba-6bd9dbfd22f5",
   "metadata": {},
   "outputs": [],
   "source": [
    "ex = \"\"\"<?xml version=\\\"1.0\\\" encoding=\\\"utf-8\\\"?>\\n<rdf:RDF\\n  xmlns:dc=\\\"http://purl.org/dc/elements/1.1/\\\"\\n  xmlns:edm=\\\"http://www.europeana.eu/schemas/edm/\\\"\\n  xmlns:ore=\\\"http://www.openarchives.org/ore/terms/\\\"\\n  xmlns:dcterms=\\\"http://purl.org/dc/terms/\\\"\\n  xmlns:rdf=\\\"http://www.w3.org/1999/02/22-rdf-syntax-ns#\\\"\\n>\\n  <ore:Aggregation rdf:about=\\\"http://anno.onb.ac.at/cgi-content/anno?apm=0&amp;aid=dil&amp;datum=19040401\\\">\\n    <edm:aggregatedCHO rdf:resource=\\\"oai:fue.onb.at:eTravel:25fde500-1d2b-4ee2-a604-5f9d07331094\\\"/>\\n    <edm:dataProvider>Österreichische Nationalbibliothek</edm:dataProvider>\\n    <edm:isShownAt rdf:resource=\\\"http://anno.onb.ac.at/cgi-content/anno?apm=0&amp;aid=dil&amp;datum=19040401\\\"/>\\n    <edm:isShownBy rdf:resource=\\\"http://anno.onb.ac.at/preview/dil/1904/19040401/00000001.png\\\"/>\\n    <edm:object rdf:resource=\\\"http://anno.onb.ac.at/preview/dil/1904/19040401/00000001.png\\\"/>\\n    <edm:provider>Kulturpool</edm:provider>\\n  </ore:Aggregation>\\n  <edm:ProvidedCHO rdf:about=\\\"oai:fue.onb.at:eTravel:25fde500-1d2b-4ee2-a604-5f9d07331094\\\">\\n    <dc:date>1904-04-01</dc:date>\\n    <dc:description xml:lang=\\\"de\\\">Zeitung zu den Themen Reise, Tourismus, Fremdenverkehr</dc:description>\\n    <dc:description xml:lang=\\\"en\\\">Journal on the themes of travel and tourism</dc:description>\\n    <dc:identifier>oai:fue.onb.at:eTravel:25fde500-1d2b-4ee2-a604-5f9d07331094</dc:identifier>\\n    <dc:language>de</dc:language>\\n    <dc:language>en</dc:language>\\n    <dc:publisher xml:lang=\\\"de\\\">Dillinger</dc:publisher>\\n    <dc:subject xml:lang=\\\"de\\\">Reise</dc:subject>\\n    <dc:subject xml:lang=\\\"de\\\">Tourimus</dc:subject>\\n    <dc:subject xml:lang=\\\"de\\\">Fremdenverkehr</dc:subject>\\n    <dc:subject xml:lang=\\\"en\\\">travel</dc:subject>\\n    <dc:subject xml:lang=\\\"en\\\">tourism</dc:subject>\\n    <dc:title xml:lang=\\\"de\\\">Dillingers Reiseführer : illustrierte Zeitschrift für internationalen Reise- und Fremdenverkehr, 1904-04-01</dc:title>\\n    <dc:type xml:lang=\\\"de\\\">Text</dc:type>\\n    <dcterms:created>1904-04-01</dcterms:created>\\n    <dcterms:isPartOf>Anno</dcterms:isPartOf>\\n    <dcterms:temporal>Wien : 14.1903 - 24.1913 ; anfangs 2 x monatlich, später monatlich</dcterms:temporal>\\n    <edm:type>IMAGE</edm:type>\\n  </edm:ProvidedCHO>\\n</rdf:RDF>\\n\"\"\""
   ]
  },
  {
   "cell_type": "code",
   "execution_count": 12,
   "id": "51d7fd46-c6c5-4473-9dfc-024421ee74a3",
   "metadata": {},
   "outputs": [],
   "source": [
    "edm = EDM_Parser(Graph().parse(StringIO(ex), format=\"xml\"))"
   ]
  },
  {
   "cell_type": "code",
   "execution_count": 15,
   "id": "e6cb8fee-8a68-477e-b1ec-7c10becd3c75",
   "metadata": {},
   "outputs": [],
   "source": [
    "rec = edm.parse()"
   ]
  },
  {
   "cell_type": "code",
   "execution_count": 19,
   "id": "b6d63861-391f-4012-878f-875c8ca44ce0",
   "metadata": {},
   "outputs": [
    {
     "data": {
      "text/plain": [
       "EDM_Record(provided_cho=EDM_ProvidedCHO(id='oai:fue.onb.at:eTravel:25fde500-1d2b-4ee2-a604-5f9d07331094', edm_type=rdflib.term.Literal('IMAGE'), dc_contributor=None, dc_coverage=None, dc_creator=None, dc_date=[rdflib.term.Literal('1904-04-01')], dc_description=[rdflib.term.Literal('Zeitung zu den Themen Reise, Tourismus, Fremdenverkehr', lang='de'), rdflib.term.Literal('Journal on the themes of travel and tourism', lang='en')], dc_format=None, dc_identifier=[rdflib.term.Literal('oai:fue.onb.at:eTravel:25fde500-1d2b-4ee2-a604-5f9d07331094')], dc_language=[rdflib.term.Literal('de'), rdflib.term.Literal('en')], dc_publisher=[rdflib.term.Literal('Dillinger', lang='de')], dc_relation=None, dc_rights=None, dc_source=None, dc_subject=[rdflib.term.Literal('Reise', lang='de'), rdflib.term.Literal('Tourimus', lang='de'), rdflib.term.Literal('Fremdenverkehr', lang='de'), rdflib.term.Literal('travel', lang='en'), rdflib.term.Literal('tourism', lang='en')], dc_title=[rdflib.term.Literal('Dillingers Reiseführer : illustrierte Zeitschrift für internationalen Reise- und Fremdenverkehr, 1904-04-01', lang='de')], dc_type=[rdflib.term.Literal('Text', lang='de')], dcterms_alternative=None, dcterms_conformsTo=None, dcterms_created=[rdflib.term.Literal('1904-04-01')], dcterms_extent=None, dcterms_hasFormat=None, dcterms_hasPart=None, dcterms_hasVersion=None, dcterms_isFormatOf=None, dcterms_isPartOf=[rdflib.term.Literal('Anno')], dcterms_isReferencedBy=None, dcterms_isReplacedBy=None, dcterms_isRequiredBy=None, dcterms_issued=None, dcterms_isVersionOf=None, dcterms_medium=None, dcterms_provenance=None, dcterms_references=None, dcterms_replaces=None, dcterms_requires=None, dcterms_spatial=None, dcterms_tableOfContents=None, dcterms_temporal=[rdflib.term.Literal('Wien : 14.1903 - 24.1913 ; anfangs 2 x monatlich, später monatlich')], edm_currentLocation=None, edm_hasMet=None, edm_hasType=None, edm_incorporates=None, edm_isDerivativeOf=None, edm_IsNextInSequence=None, edm_isRelatedTo=None, edm_isRepresentationOf=None, edm_isSimilarTo=None, edm_isSuccessorOf=None, edm_realizes=None, owl_isSameAs=None), aggregation=ORE_Aggregation(id='http://anno.onb.ac.at/cgi-content/anno?apm=0&aid=dil&datum=19040401', edm_aggregatedCHO=rdflib.term.URIRef('oai:fue.onb.at:eTravel:25fde500-1d2b-4ee2-a604-5f9d07331094'), edm_dataProvider=rdflib.term.Literal('Österreichische Nationalbibliothek'), edm_provider=rdflib.term.Literal('Kulturpool'), edm_rights=rdflib.term.URIRef('http://example.com/placeholder_rights'), edm_hasView=None, edm_isShownAt=rdflib.term.URIRef('http://anno.onb.ac.at/cgi-content/anno?apm=0&aid=dil&datum=19040401'), edm_isShownBy=rdflib.term.URIRef('http://anno.onb.ac.at/preview/dil/1904/19040401/00000001.png'), edm_object=rdflib.term.URIRef('http://anno.onb.ac.at/preview/dil/1904/19040401/00000001.png'), dc_rights=None, edm_ugc=None, edm_intermediateProvider=None), web_resource=[], skos_concept=[], edm_agent=[], edm_time_span=[], edm_place=[], cc_license=[], svcs_service=None)"
      ]
     },
     "execution_count": 19,
     "metadata": {},
     "output_type": "execute_result"
    }
   ],
   "source": [
    "rec"
   ]
  },
  {
   "cell_type": "code",
   "execution_count": 21,
   "id": "2ab6ade3-d4d2-415e-b153-3c6a8a85e9cc",
   "metadata": {},
   "outputs": [
    {
     "data": {
      "text/plain": [
       "{'provided_cho': {'id': 'oai:fue.onb.at:eTravel:25fde500-1d2b-4ee2-a604-5f9d07331094',\n",
       "  'edm_type': rdflib.term.Literal('IMAGE'),\n",
       "  'dc_contributor': None,\n",
       "  'dc_coverage': None,\n",
       "  'dc_creator': None,\n",
       "  'dc_date': [rdflib.term.Literal('1904-04-01')],\n",
       "  'dc_description': [rdflib.term.Literal('Zeitung zu den Themen Reise, Tourismus, Fremdenverkehr', lang='de'),\n",
       "   rdflib.term.Literal('Journal on the themes of travel and tourism', lang='en')],\n",
       "  'dc_format': None,\n",
       "  'dc_identifier': [rdflib.term.Literal('oai:fue.onb.at:eTravel:25fde500-1d2b-4ee2-a604-5f9d07331094')],\n",
       "  'dc_language': [rdflib.term.Literal('de'), rdflib.term.Literal('en')],\n",
       "  'dc_publisher': [rdflib.term.Literal('Dillinger', lang='de')],\n",
       "  'dc_relation': None,\n",
       "  'dc_rights': None,\n",
       "  'dc_source': None,\n",
       "  'dc_subject': [rdflib.term.Literal('Reise', lang='de'),\n",
       "   rdflib.term.Literal('Tourimus', lang='de'),\n",
       "   rdflib.term.Literal('Fremdenverkehr', lang='de'),\n",
       "   rdflib.term.Literal('travel', lang='en'),\n",
       "   rdflib.term.Literal('tourism', lang='en')],\n",
       "  'dc_title': [rdflib.term.Literal('Dillingers Reiseführer : illustrierte Zeitschrift für internationalen Reise- und Fremdenverkehr, 1904-04-01', lang='de')],\n",
       "  'dc_type': [rdflib.term.Literal('Text', lang='de')],\n",
       "  'dcterms_alternative': None,\n",
       "  'dcterms_conformsTo': None,\n",
       "  'dcterms_created': [rdflib.term.Literal('1904-04-01')],\n",
       "  'dcterms_extent': None,\n",
       "  'dcterms_hasFormat': None,\n",
       "  'dcterms_hasPart': None,\n",
       "  'dcterms_hasVersion': None,\n",
       "  'dcterms_isFormatOf': None,\n",
       "  'dcterms_isPartOf': [rdflib.term.Literal('Anno')],\n",
       "  'dcterms_isReferencedBy': None,\n",
       "  'dcterms_isReplacedBy': None,\n",
       "  'dcterms_isRequiredBy': None,\n",
       "  'dcterms_issued': None,\n",
       "  'dcterms_isVersionOf': None,\n",
       "  'dcterms_medium': None,\n",
       "  'dcterms_provenance': None,\n",
       "  'dcterms_references': None,\n",
       "  'dcterms_replaces': None,\n",
       "  'dcterms_requires': None,\n",
       "  'dcterms_spatial': None,\n",
       "  'dcterms_tableOfContents': None,\n",
       "  'dcterms_temporal': [rdflib.term.Literal('Wien : 14.1903 - 24.1913 ; anfangs 2 x monatlich, später monatlich')],\n",
       "  'edm_currentLocation': None,\n",
       "  'edm_hasMet': None,\n",
       "  'edm_hasType': None,\n",
       "  'edm_incorporates': None,\n",
       "  'edm_isDerivativeOf': None,\n",
       "  'edm_IsNextInSequence': None,\n",
       "  'edm_isRelatedTo': None,\n",
       "  'edm_isRepresentationOf': None,\n",
       "  'edm_isSimilarTo': None,\n",
       "  'edm_isSuccessorOf': None,\n",
       "  'edm_realizes': None,\n",
       "  'owl_isSameAs': None},\n",
       " 'aggregation': {'id': 'http://anno.onb.ac.at/cgi-content/anno?apm=0&aid=dil&datum=19040401',\n",
       "  'edm_aggregatedCHO': rdflib.term.URIRef('oai:fue.onb.at:eTravel:25fde500-1d2b-4ee2-a604-5f9d07331094'),\n",
       "  'edm_dataProvider': rdflib.term.Literal('Österreichische Nationalbibliothek'),\n",
       "  'edm_provider': rdflib.term.Literal('Kulturpool'),\n",
       "  'edm_rights': rdflib.term.URIRef('http://example.com/placeholder_rights'),\n",
       "  'edm_hasView': None,\n",
       "  'edm_isShownAt': rdflib.term.URIRef('http://anno.onb.ac.at/cgi-content/anno?apm=0&aid=dil&datum=19040401'),\n",
       "  'edm_isShownBy': rdflib.term.URIRef('http://anno.onb.ac.at/preview/dil/1904/19040401/00000001.png'),\n",
       "  'edm_object': rdflib.term.URIRef('http://anno.onb.ac.at/preview/dil/1904/19040401/00000001.png'),\n",
       "  'dc_rights': None,\n",
       "  'edm_ugc': None,\n",
       "  'edm_intermediateProvider': None},\n",
       " 'web_resource': [],\n",
       " 'skos_concept': [],\n",
       " 'edm_agent': [],\n",
       " 'edm_time_span': [],\n",
       " 'edm_place': [],\n",
       " 'cc_license': [],\n",
       " 'svcs_service': None}"
      ]
     },
     "execution_count": 21,
     "metadata": {},
     "output_type": "execute_result"
    }
   ],
   "source": [
    "rec.model_dump()"
   ]
  },
  {
   "cell_type": "code",
   "execution_count": 22,
   "id": "f1f453c3-48b0-437b-8b1f-3809fd83c063",
   "metadata": {},
   "outputs": [],
   "source": [
    "from edm_python import EDM_Record"
   ]
  },
  {
   "cell_type": "code",
   "execution_count": 24,
   "id": "40587ee3-12cb-420e-9b77-1ef3e713fcc9",
   "metadata": {},
   "outputs": [
    {
     "data": {
      "text/plain": [
       "EDM_Record(provided_cho=EDM_ProvidedCHO(id='oai:fue.onb.at:eTravel:25fde500-1d2b-4ee2-a604-5f9d07331094', edm_type=rdflib.term.Literal('IMAGE'), dc_contributor=None, dc_coverage=None, dc_creator=None, dc_date=[rdflib.term.Literal('1904-04-01')], dc_description=[rdflib.term.Literal('Zeitung zu den Themen Reise, Tourismus, Fremdenverkehr', lang='de'), rdflib.term.Literal('Journal on the themes of travel and tourism', lang='en')], dc_format=None, dc_identifier=[rdflib.term.Literal('oai:fue.onb.at:eTravel:25fde500-1d2b-4ee2-a604-5f9d07331094')], dc_language=[rdflib.term.Literal('de'), rdflib.term.Literal('en')], dc_publisher=[rdflib.term.Literal('Dillinger', lang='de')], dc_relation=None, dc_rights=None, dc_source=None, dc_subject=[rdflib.term.Literal('Reise', lang='de'), rdflib.term.Literal('Tourimus', lang='de'), rdflib.term.Literal('Fremdenverkehr', lang='de'), rdflib.term.Literal('travel', lang='en'), rdflib.term.Literal('tourism', lang='en')], dc_title=[rdflib.term.Literal('Dillingers Reiseführer : illustrierte Zeitschrift für internationalen Reise- und Fremdenverkehr, 1904-04-01', lang='de')], dc_type=[rdflib.term.Literal('Text', lang='de')], dcterms_alternative=None, dcterms_conformsTo=None, dcterms_created=[rdflib.term.Literal('1904-04-01')], dcterms_extent=None, dcterms_hasFormat=None, dcterms_hasPart=None, dcterms_hasVersion=None, dcterms_isFormatOf=None, dcterms_isPartOf=[rdflib.term.Literal('Anno')], dcterms_isReferencedBy=None, dcterms_isReplacedBy=None, dcterms_isRequiredBy=None, dcterms_issued=None, dcterms_isVersionOf=None, dcterms_medium=None, dcterms_provenance=None, dcterms_references=None, dcterms_replaces=None, dcterms_requires=None, dcterms_spatial=None, dcterms_tableOfContents=None, dcterms_temporal=[rdflib.term.Literal('Wien : 14.1903 - 24.1913 ; anfangs 2 x monatlich, später monatlich')], edm_currentLocation=None, edm_hasMet=None, edm_hasType=None, edm_incorporates=None, edm_isDerivativeOf=None, edm_IsNextInSequence=None, edm_isRelatedTo=None, edm_isRepresentationOf=None, edm_isSimilarTo=None, edm_isSuccessorOf=None, edm_realizes=None, owl_isSameAs=None), aggregation=ORE_Aggregation(id='http://anno.onb.ac.at/cgi-content/anno?apm=0&aid=dil&datum=19040401', edm_aggregatedCHO=rdflib.term.URIRef('oai:fue.onb.at:eTravel:25fde500-1d2b-4ee2-a604-5f9d07331094'), edm_dataProvider=rdflib.term.Literal('Österreichische Nationalbibliothek'), edm_provider=rdflib.term.Literal('Kulturpool'), edm_rights=rdflib.term.URIRef('http://example.com/placeholder_rights'), edm_hasView=None, edm_isShownAt=rdflib.term.URIRef('http://anno.onb.ac.at/cgi-content/anno?apm=0&aid=dil&datum=19040401'), edm_isShownBy=rdflib.term.URIRef('http://anno.onb.ac.at/preview/dil/1904/19040401/00000001.png'), edm_object=rdflib.term.URIRef('http://anno.onb.ac.at/preview/dil/1904/19040401/00000001.png'), dc_rights=None, edm_ugc=None, edm_intermediateProvider=None), web_resource=[], skos_concept=[], edm_agent=[], edm_time_span=[], edm_place=[], cc_license=[], svcs_service=None)"
      ]
     },
     "execution_count": 24,
     "metadata": {},
     "output_type": "execute_result"
    }
   ],
   "source": [
    "EDM_Record(**rec.model_dump())"
   ]
  },
  {
   "cell_type": "code",
   "execution_count": 25,
   "id": "2f2f7cfa-aeb9-418c-824f-e32ce4644e18",
   "metadata": {},
   "outputs": [],
   "source": [
    "a = {1:2, 2:3}\n",
    "b = {1:2, 2:3}"
   ]
  },
  {
   "cell_type": "code",
   "execution_count": 26,
   "id": "b4eb9aa7-5365-4078-9947-ddede8519a5c",
   "metadata": {},
   "outputs": [
    {
     "data": {
      "text/plain": [
       "True"
      ]
     },
     "execution_count": 26,
     "metadata": {},
     "output_type": "execute_result"
    }
   ],
   "source": [
    "a == b"
   ]
  },
  {
   "cell_type": "code",
   "execution_count": null,
   "id": "0ab151f3-12ff-48cb-8bf5-ae25f2d15ba9",
   "metadata": {},
   "outputs": [],
   "source": []
  }
 ],
 "metadata": {
  "kernelspec": {
   "display_name": "Python 3 (ipykernel)",
   "language": "python",
   "name": "python3"
  },
  "language_info": {
   "codemirror_mode": {
    "name": "ipython",
    "version": 3
   },
   "file_extension": ".py",
   "mimetype": "text/x-python",
   "name": "python",
   "nbconvert_exporter": "python",
   "pygments_lexer": "ipython3",
   "version": "3.12.1"
  }
 },
 "nbformat": 4,
 "nbformat_minor": 5
}
